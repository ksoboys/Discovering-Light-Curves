{
 "cells": [
  {
   "cell_type": "markdown",
   "metadata": {},
   "source": [
    "# Instructions:\n",
    "1. Create a folder on your computer and put this jupyter notebook file in that folder\n",
    "2. Go to https://exoplanets.nasa.gov/discovery/exoplanet-catalog/ and filter the search results by Planet Type to \"Terrestrial\" and by Discovery method to \"Transit\"\n",
    "3. Choose a planet you want to view the light curve for\n",
    "4. In the cell below this cell, enter the planet's name into the quotations\n",
    "5. In jupyter notebook, go to the kernel tab, and press \"Restart and Run All\"\n",
    "6. View the light curves you've generated in the folder named 'plots', which should be in the folder this jupyter notebook file is stored in\n",
    "7. Have fun!"
   ]
  },
  {
   "cell_type": "code",
   "execution_count": 16,
   "metadata": {},
   "outputs": [],
   "source": [
    "planet = \"EPIC 201497682 b\""
   ]
  },
  {
   "cell_type": "code",
   "execution_count": 3,
   "metadata": {
    "scrolled": false
   },
   "outputs": [],
   "source": [
    "import matplotlib.pyplot as plt\n",
    "import lightkurve as lk\n",
    "import pandas as pd\n",
    "from bs4 import BeautifulSoup\n",
    "import requests\n",
    "import os"
   ]
  },
  {
   "cell_type": "code",
   "execution_count": 17,
   "metadata": {},
   "outputs": [
    {
     "name": "stdout",
     "output_type": "stream",
     "text": [
      "EPIC 201497682 b\n",
      "dir  already exists\n",
      "[2017.0263000000268, 2.13174]\n"
     ]
    }
   ],
   "source": [
    "try: \n",
    "    print(planet)\n",
    "    downloadNum = 0;\n",
    "    try:\n",
    "        os.makedirs(\"plots/\" + planet)\n",
    "    except:\n",
    "        print('dir ' + ' already exists')\n",
    "    baseWeb = \"https://exoplanetarchive.ipac.caltech.edu/overview/\"\n",
    "    try:\n",
    "        page = requests.get(baseWeb+planet).text\n",
    "    except:\n",
    "        raise Exception('could not access webpage of ' + planet)\n",
    "    soup = BeautifulSoup(page, \"lxml\")\n",
    "    planetInfo = soup.find_all(\"div\", {\"id\":planet.replace(' ','-').replace('.','-')})\n",
    "    allRows = planetInfo[0].find_all(class_=\"tooltip_wrapper\")\n",
    "    epochIndex = []\n",
    "    periodIndex = []\n",
    "    j = 0\n",
    "    for item in allRows:\n",
    "        if item['title'].__eq__('Time of Conjunction (Transit Midpoint)'):\n",
    "            epochIndex.append(j)\n",
    "        elif item['title'].__eq__('Orbital Period'):\n",
    "            periodIndex.append(j)\n",
    "        j = j + 1\n",
    "    dataSoup = planetInfo[0].find_all('td', {'data-index': '0'})\n",
    "    allDatas = []\n",
    "    for item in dataSoup:\n",
    "        allDatas.append(item.get_text())\n",
    "    try:\n",
    "        epochTime = float(allDatas[epochIndex[0]+1].split('±')[0].replace('\\n',''));\n",
    "    except:\n",
    "        epochTime = float(allDatas[epochIndex[0]+1].split('+')[0].replace('\\n',''));\n",
    "    try:\n",
    "        periodTime = float(allDatas[periodIndex[0]+1].split('±')[0].replace('\\n',''));\n",
    "    except:\n",
    "        periodTime = float(allDatas[periodIndex[0]+1].split('+')[0].replace('\\n',''));\n",
    "    epochTime = epochTime - 2454833\n",
    "    print([epochTime, periodTime])\n",
    "    search_result = lk.search_lightcurve(planet)\n",
    "    try:\n",
    "        search_result[downloadNum]\n",
    "        lcf = search_result[downloadNum].download()\n",
    "    except:\n",
    "        raise Exception('could not download data of ' + planet)\n",
    "        \n",
    "    plot = lcf.plot();\n",
    "    fig = plot.get_figure();\n",
    "    fig.savefig('plots/'+planet+'/base'+str(downloadNum)+'.png')\n",
    "\n",
    "    ax = lcf.plot(label='PDCSAP Flux', normalize=True)\n",
    "    plot = lcf.plot(column='sap_flux', normalize=True, label='SAP Flux', ax=ax);\n",
    "    fig = plot.get_figure();\n",
    "    fig.savefig('plots/'+planet+'/PDCSAP'+str(downloadNum)+'.png')\n",
    "\n",
    "    pdcsap = lcf.flux\n",
    "    sap =lcf.sap_flux\n",
    "    finalData = lcf.remove_nans().flatten(window_length=401).fold(period=periodTime,  epoch_time=epochTime).bin(time_bin_size=0.025);\n",
    "\n",
    "    plot = finalData.plot()\n",
    "    fig = plot.get_figure();\n",
    "    fig.savefig('plots/'+planet+'/Flattened'+str(downloadNum)+'.png')\n",
    "\n",
    "    plt.close('all')\n",
    "except:\n",
    "    raise Exception(planet + ' plots ran into an error during generation')\n",
    "    "
   ]
  }
 ],
 "metadata": {
  "kernelspec": {
   "display_name": "Python 3",
   "language": "python",
   "name": "python3"
  },
  "language_info": {
   "codemirror_mode": {
    "name": "ipython",
    "version": 3
   },
   "file_extension": ".py",
   "mimetype": "text/x-python",
   "name": "python",
   "nbconvert_exporter": "python",
   "pygments_lexer": "ipython3",
   "version": "3.8.3"
  }
 },
 "nbformat": 4,
 "nbformat_minor": 4
}
